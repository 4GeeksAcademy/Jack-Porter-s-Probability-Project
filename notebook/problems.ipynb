{
 "cells": [
  {
   "cell_type": "markdown",
   "id": "a41f3622",
   "metadata": {},
   "source": [
    "# Probability exercises"
   ]
  },
  {
   "cell_type": "markdown",
   "id": "a6bdbd89",
   "metadata": {},
   "source": [
    "## Exercise 1 \n",
    "\n",
    "Two dices are thrown once and the total score is observed. Use a simulation to find the estimated probability that the total score is even or greater than 7.  A simulation is a repetition of the same experiment multiple times to observe its behavior:\n",
    "\n",
    "- Run the experiment 1000 times (roll 2 dice 1000 times, and sum the number of both dices).\n",
    "- Keep track of the number of times that the sum was either greater than 7 or an even number.\n",
    "- Divide the number from step 2 by the number of iterations (1000)."
   ]
  },
  {
   "cell_type": "code",
   "execution_count": 2,
   "id": "8939d892",
   "metadata": {},
   "outputs": [
    {
     "name": "stdout",
     "output_type": "stream",
     "text": [
      "Estimated Probability: 0.676\n"
     ]
    }
   ],
   "source": [
    "import random\n",
    "\n",
    "# Function to roll two dice and sum their values\n",
    "def roll_the_dice():\n",
    "    return random.randint(1, 6) + random.randint(1, 6)\n",
    "\n",
    "# Function to simulate the experiment\n",
    "def experiment(num_trials=1000):\n",
    "    success_count = 0\n",
    "    for _ in range(num_trials):\n",
    "        total = roll_the_dice()\n",
    "        if total > 7 or total % 2 == 0:\n",
    "            success_count += 1\n",
    "    probability = success_count / num_trials\n",
    "    return probability\n",
    "\n",
    "# Run the experiment and print the result\n",
    "print(\"Estimated Probability:\", experiment())\n",
    "\n"
   ]
  },
  {
   "cell_type": "markdown",
   "id": "55732bca",
   "metadata": {},
   "source": [
    "## Exercise 2\n",
    "\n",
    "A box contains 10 white balls, 20 red balls and 30 green balls. If we take 5 balls from the box with replacement (we take the ball, observe what color it is and put it back into the box). We want to know the probability of:\n",
    "\n",
    "1. Take 3 white and 2 red.\n",
    "2. Take all of the same color.\n",
    "\n",
    "Run the experiment 1000 times and calculate the above probabilities."
   ]
  },
  {
   "cell_type": "code",
   "execution_count": 6,
   "id": "23244d20",
   "metadata": {},
   "outputs": [
    {
     "name": "stdout",
     "output_type": "stream",
     "text": [
      "Probability of 3 white balls and 2 red balls: 0.0000\n",
      "Probablilty of all balls being the same color: 0.0280 \n"
     ]
    }
   ],
   "source": [
    "import random\n",
    "\n",
    "ball_box = {}\n",
    "\n",
    "# Create the box of balls\n",
    "def box_of_balls():\n",
    "    for i in range(60):\n",
    "        if i < 10:\n",
    "            ball_box[i] = \"White\"\n",
    "        elif (i > 9) and (i < 30):\n",
    "            ball_box[i] = \"Red\"\n",
    "        else:\n",
    "            ball_box[i] = \"Green\"\n",
    "\n",
    "# Take 3 white and 2 red balla\n",
    "def run_simulation(simulations=1000) -> tuple[int, int]:\n",
    "    count_3w_2r = 0\n",
    "    count_all_same = 0\n",
    "    \n",
    "    for _ in range(simulations):\n",
    "        # Draw 5 balls\n",
    "        picks = [ball_box[random.randint(0,59)] for _ in range(5)]\n",
    "\n",
    "        # Count by Color\n",
    "        whites = picks.count(\"Whites\")\n",
    "        reds = picks.count(\"Reds\")\n",
    "\n",
    "        # Condition 1: 3 whites and 2 reds\n",
    "        if whites == 3 and reds == 2:\n",
    "            count_3w_2r += 1\n",
    "        \n",
    "        # Condition 2: all colors for the 5 balls\n",
    "        if all (color == picks[0] for color in picks):\n",
    "            count_all_same += 1\n",
    "    \n",
    "    return count_3w_2r, count_all_same\n",
    "\n",
    "# Call and Print\n",
    "box_of_balls()\n",
    "result_3w2r, result_all_same = run_simulation(1000)\n",
    "\n",
    "print(f\"Probability of 3 white balls and 2 red balls: {result_3w2r/1000:.4f}\")\n",
    "print(f\"Probablilty of all balls being the same color: {result_all_same/1000:.4f} \")\n",
    "            "
   ]
  },
  {
   "cell_type": "code",
   "execution_count": null,
   "id": "04d2da67",
   "metadata": {},
   "outputs": [],
   "source": []
  }
 ],
 "metadata": {
  "kernelspec": {
   "display_name": "Python 3",
   "language": "python",
   "name": "python3"
  },
  "language_info": {
   "codemirror_mode": {
    "name": "ipython",
    "version": 3
   },
   "file_extension": ".py",
   "mimetype": "text/x-python",
   "name": "python",
   "nbconvert_exporter": "python",
   "pygments_lexer": "ipython3",
   "version": "3.11.4"
  }
 },
 "nbformat": 4,
 "nbformat_minor": 5
}
